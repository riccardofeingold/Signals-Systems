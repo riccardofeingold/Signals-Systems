{
 "cells": [
  {
   "cell_type": "code",
   "execution_count": 103,
   "id": "33c18933",
   "metadata": {},
   "outputs": [],
   "source": [
    "import soundfile as sf\n",
    "import os\n",
    "import numpy as np\n",
    "\n",
    "'''\n",
    "INPUT\n",
    "    name: string containing the audio file to be read\n",
    "\n",
    "This is a helper funcion. You don't need to modify it.\n",
    "'''\n",
    "\n",
    "def audio_read(name):\n",
    "    # Name of the audio file was given\n",
    "    if name[-5:]=='.flac':\n",
    "        audio, Fs = sf.read(name)\n",
    "        if audio.ndim>1:\n",
    "            audio = audio[:,0]\n",
    "        return audio, Fs\n",
    "    # Name of the folder containing audio files was given\n",
    "    else:\n",
    "        files = os.listdir(os.path.join(os.getcwd(),name))\n",
    "        audio = np.empty(len(files),dtype=object)\n",
    "        Fs = []\n",
    "        L = []\n",
    "        for idx in range(0,len(files)):\n",
    "            audio_tmp, Fs_tmp = sf.read(os.path.join(os.getcwd(),name,files[idx]))\n",
    "            # For multidimensional audio take only first col\n",
    "            if audio_tmp.ndim>1:\n",
    "                audio[idx] = audio_tmp[:,0]\n",
    "            else:\n",
    "                audio[idx] = audio_tmp\n",
    "            Fs.append(Fs_tmp)\n",
    "            L.append(len(audio_tmp))\n",
    "        idx_max = L.index(max(L))\n",
    "        # Ensure audio samples have the same length\n",
    "        for idx in range(0, len(files)):\n",
    "            if idx!=idx_max:\n",
    "                audio[idx] = np.append(audio[idx], np.zeros(max(L)-len(audio[idx])))\n",
    "        # Reshape audio into shape [max(L),len(files)]\n",
    "        audio_array = np.empty([max(L),len(files)])\n",
    "        for idx in range(0,len(files)):\n",
    "            audio_array[:,idx] = audio[idx]\n",
    "        # Check if sampling frequencies of audio files are equal\n",
    "        assert all(element == Fs[0] for element in Fs), ...\n",
    "        'Sampling frequencies are not equal! Must downsample/upsample first'\n",
    "        return audio_array, np.array(Fs)\n"
   ]
  }
 ],
 "metadata": {
  "kernelspec": {
   "display_name": "Python 3",
   "language": "python",
   "name": "python3"
  },
  "language_info": {
   "codemirror_mode": {
    "name": "ipython",
    "version": 3
   },
   "file_extension": ".py",
   "mimetype": "text/x-python",
   "name": "python",
   "nbconvert_exporter": "python",
   "pygments_lexer": "ipython3",
   "version": "3.8.8"
  }
 },
 "nbformat": 4,
 "nbformat_minor": 5
}
