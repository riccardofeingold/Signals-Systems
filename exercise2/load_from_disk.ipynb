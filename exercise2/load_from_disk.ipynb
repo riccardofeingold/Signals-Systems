{
 "cells": [
  {
   "cell_type": "code",
   "execution_count": 17,
   "id": "ebb59e03",
   "metadata": {},
   "outputs": [],
   "source": [
    "import numpy as np\n",
    "from scipy.fft import idct\n",
    "import json\n",
    "\n",
    "'''\n",
    "INPUT\n",
    "    filename: string containing the json file to be read;\n",
    "OUTPUT\n",
    "    x_lc: 1D time domain signal; left channel\n",
    "    x_rc: 1D time domain signal; right channel\n",
    "\n",
    "This is a helper funcion. You don't need to modify it.\n",
    "'''\n",
    "        \n",
    "def load_from_disk(filename):\n",
    "    if filename[-5:]!='.json':\n",
    "        filename = filename + '.json'\n",
    "        \n",
    "    with open(filename) as f:\n",
    "        data = json.load(f)\n",
    "    \n",
    "    bits = data[\"bits\"]\n",
    "    i_lc = np.array(data[\"i_lc\"])\n",
    "    i_rc = np.array(data[\"i_rc\"])\n",
    "    c_lc = np.array(data[\"c_lc\"])\n",
    "    c_rc = np.array(data[\"c_rc\"])\n",
    "    \n",
    "    X_lc = c_lc/pow(2,bits-1)\n",
    "    X_rc = c_rc/pow(2,bits-1)\n",
    "    \n",
    "    \n",
    "    # Reshape to 1D if needed\n",
    "    if np.shape(X_lc)[1]==1:\n",
    "        X_lc = np.reshape(X_lc,[len(X_lc)])\n",
    "        X_rc = np.reshape(X_rc,[len(X_rc)])\n",
    "        i_lc = np.reshape(i_lc,[len(i_lc)])\n",
    "        i_rc = np.reshape(i_rc,[len(i_rc)])\n",
    "    \n",
    "    return X_lc, X_rc, i_lc, i_rc\n",
    "    "
   ]
  }
 ],
 "metadata": {
  "kernelspec": {
   "display_name": "Python 3",
   "language": "python",
   "name": "python3"
  },
  "language_info": {
   "codemirror_mode": {
    "name": "ipython",
    "version": 3
   },
   "file_extension": ".py",
   "mimetype": "text/x-python",
   "name": "python",
   "nbconvert_exporter": "python",
   "pygments_lexer": "ipython3",
   "version": "3.8.8"
  }
 },
 "nbformat": 4,
 "nbformat_minor": 5
}
