{
 "cells": [
  {
   "cell_type": "code",
   "execution_count": 5,
   "id": "b2f3c3e5",
   "metadata": {},
   "outputs": [],
   "source": [
    "import numpy as np\n",
    "import json\n",
    "import time\n",
    "import os\n",
    "\n",
    "'''\n",
    "INPUT\n",
    "    filename: string containing the json file to be saved;\n",
    "    X_lc: Compressed 1D/2D frequency domain signal for each window size; left channel\n",
    "    X_rc: Compressed 1D/2D frequency domain signal for each window size; right channel\n",
    "    i_lc: Indices of the original frequencies that you decide to keep. Same dimensions as X_lc.\n",
    "    i_rc: Indices of the original frequencies that you decide to keep. Same dimensions as X_rc.\n",
    "OUTPUT\n",
    "    filesize: Size of json file [Byte]\n",
    "    \n",
    "This is a helper funcion. You don't need to modify it.\n",
    "'''\n",
    "\n",
    "def save_to_disk(filename, X_lc, X_rc, i_lc, i_rc):\n",
    "    if filename[-4:]!='.json':\n",
    "        filename = filename + '.json'\n",
    "    # Reshape 1D to 2D\n",
    "    if X_lc.ndim==1:\n",
    "        X_lc = np.reshape(X_lc,[len(X_lc),1])\n",
    "        X_rc = np.reshape(X_rc,[len(X_rc),1])\n",
    "    num_comp, num_win = np.shape(X_lc)\n",
    "    c_lc = np.array(np.zeros((num_comp, num_win)), dtype='int16')\n",
    "    c_rc = np.array(np.zeros((num_comp, num_win)), dtype='int16')\n",
    "    max_lc = np.max(X_lc)\n",
    "    min_lc = np.abs(np.min(X_lc))\n",
    "    max_rc = np.max(X_rc)\n",
    "    min_rc = np.abs(np.min(X_rc))\n",
    "    scale_factor = np.max([max_lc, min_lc, max_rc, min_rc])\n",
    "    bits = 16-np.ceil(np.log2(scale_factor))\n",
    "    for i in range(0,num_win):\n",
    "        c_lc[:,i] = np.array(X_lc[:,i]*pow(2,bits-1), dtype='int16')\n",
    "        c_rc[:,i] = np.array(X_rc[:,i]*pow(2,bits-1), dtype='int16')\n",
    "        \n",
    "    datadict = {\n",
    "        \"bits\": bits,\n",
    "        \"i_lc\": i_lc.tolist(),\n",
    "        \"i_rc\": i_rc.tolist(),\n",
    "        \"c_lc\": c_lc.tolist(),\n",
    "        \"c_rc\": c_rc.tolist(),\n",
    "    }\n",
    "    \n",
    "    with open(filename, 'w') as f:\n",
    "        json.dump(datadict, f, separators=(',', ':'))\n",
    "        \n",
    "    time.sleep(0.5)\n",
    "    filesize = os.path.getsize(filename)\n",
    "    return filesize"
   ]
  }
 ],
 "metadata": {
  "kernelspec": {
   "display_name": "Python 3",
   "language": "python",
   "name": "python3"
  },
  "language_info": {
   "codemirror_mode": {
    "name": "ipython",
    "version": 3
   },
   "file_extension": ".py",
   "mimetype": "text/x-python",
   "name": "python",
   "nbconvert_exporter": "python",
   "pygments_lexer": "ipython3",
   "version": "3.8.8"
  }
 },
 "nbformat": 4,
 "nbformat_minor": 5
}
