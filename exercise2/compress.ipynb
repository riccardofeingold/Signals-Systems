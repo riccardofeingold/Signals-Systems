{
 "cells": [
  {
   "cell_type": "code",
   "execution_count": 1,
   "id": "12acecc7",
   "metadata": {},
   "outputs": [],
   "source": [
    "from scipy.fft import dct\n",
    "import numpy as np\n",
    "\n",
    "'''\n",
    "INPUT\n",
    "    x_lc: 1D time domain signal; left channel\n",
    "    x_rc: 1D time domain signal; right channel\n",
    "    n_comp: Number of frequency domain components to keep in compressed signal\n",
    "OUTPUT\n",
    "    X_lc: Compressed 1D frequency domain signal; left channel\n",
    "    X_rc: Compressed 1D frequency domain signal; right channel\n",
    "    i_lc: Indices of the original frequencies that you decide to keep. Same dimensions as X_lc.\n",
    "    i_rc: Indices of the original frequencies that you decide to keep. Same dimensions as X_rc.\n",
    "'''\n",
    "\n",
    "def compress(x_lc, x_rc, n_comp):\n",
    "    # Write your implementation here\n",
    "    # Humans can detect sounds in a frequency range from about 20 Hz to 20 kHz\n",
    "    Fs = 48000\n",
    "    upper_boundary = 22000\n",
    "    lower_boundary = 20\n",
    "    n_max = int((upper_boundary*len(x_lc))/Fs)\n",
    "    n_min = int((lower_boundary*len(x_lc))/Fs)\n",
    "    \n",
    "    if n_comp > n_max:\n",
    "        n_comp = n_max\n",
    "    elif n_comp < n_min:\n",
    "        n_comp = n_min\n",
    "    \n",
    "    N_lc = len(x_lc)\n",
    "    N_rc = len(x_rc)\n",
    "    X_lc = dct(x_lc, norm='ortho')\n",
    "    X_rc = dct(x_rc, norm='ortho')\n",
    "    \n",
    "    X_lc_comp = X_lc[n_min:n_max]\n",
    "    i_lc = np.arange(n_min, n_max)    \n",
    "    X_rc_comp = X_rc[n_min:n_max]\n",
    "    i_rc = np.arange(n_min, n_max)\n",
    "    \n",
    "    return X_lc_comp[:n_comp], X_rc_comp[:n_comp], i_lc[:n_comp], i_rc[:n_comp]\n",
    "\n",
    "\n",
    "\n",
    "\n",
    "\n"
   ]
  }
 ],
 "metadata": {
  "kernelspec": {
   "display_name": "Python 3",
   "language": "python",
   "name": "python3"
  },
  "language_info": {
   "codemirror_mode": {
    "name": "ipython",
    "version": 3
   },
   "file_extension": ".py",
   "mimetype": "text/x-python",
   "name": "python",
   "nbconvert_exporter": "python",
   "pygments_lexer": "ipython3",
   "version": "3.8.8"
  }
 },
 "nbformat": 4,
 "nbformat_minor": 5
}
