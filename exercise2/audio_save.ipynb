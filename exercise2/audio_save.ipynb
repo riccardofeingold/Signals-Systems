{
 "cells": [
  {
   "cell_type": "code",
   "execution_count": 2,
   "id": "9ba72c58",
   "metadata": {},
   "outputs": [],
   "source": [
    "import soundfile as sf\n",
    "import numpy as np\n",
    "\n",
    "'''\n",
    "INPUT\n",
    "    name: string containing the audio file to be read;\n",
    "    audio: 1D time domain signal;\n",
    "    Fs: The sample rate in Hz;\n",
    "\n",
    "This is a helper funcion. You don't need to modify it.\n",
    "'''\n",
    "\n",
    "def audio_save(filename, x_lc, x_rc, Fs):\n",
    "    if filename[-5:]!='.flac':\n",
    "        filename = filename + '.flac'\n",
    "    audio = np.concatenate((x_lc, x_rc), axis=0)\n",
    "    sf.write(filename, audio, Fs)\n",
    "    return"
   ]
  }
 ],
 "metadata": {
  "kernelspec": {
   "display_name": "Python 3",
   "language": "python",
   "name": "python3"
  },
  "language_info": {
   "codemirror_mode": {
    "name": "ipython",
    "version": 3
   },
   "file_extension": ".py",
   "mimetype": "text/x-python",
   "name": "python",
   "nbconvert_exporter": "python",
   "pygments_lexer": "ipython3",
   "version": "3.8.8"
  }
 },
 "nbformat": 4,
 "nbformat_minor": 5
}
