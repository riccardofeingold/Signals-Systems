{
 "cells": [
  {
   "cell_type": "code",
   "execution_count": 6,
   "id": "07620dfb",
   "metadata": {},
   "outputs": [],
   "source": [
    "import matplotlib.pyplot as plt\n",
    "import numpy as np\n",
    "\n",
    "'''\n",
    "INPUT\n",
    "    x: 1D time domain signal;\n",
    "    fs: The sample rate in Hz;\n",
    "This is a helper funcion. You don't need to modify it.\n",
    "'''\n",
    "\n",
    "def visualize_time_frequency(x, fs):\n",
    "    plt.figure()\n",
    "    plt.specgram(x, Fs=fs, NFFT=2048, window=lambda x: x*np.hamming(len(x)))\n",
    "    plt.title('Time-Frequency Visualization')  \n",
    "    plt.ylabel('Frequency [Hz]')\n",
    "    plt.xlabel('Time [sec]')\n",
    "    plt.colorbar().set_label('Intensity [dB]')\n",
    "    plt.show()\n",
    "    return"
   ]
  }
 ],
 "metadata": {
  "kernelspec": {
   "display_name": "Python 3",
   "language": "python",
   "name": "python3"
  },
  "language_info": {
   "codemirror_mode": {
    "name": "ipython",
    "version": 3
   },
   "file_extension": ".py",
   "mimetype": "text/x-python",
   "name": "python",
   "nbconvert_exporter": "python",
   "pygments_lexer": "ipython3",
   "version": "3.8.8"
  }
 },
 "nbformat": 4,
 "nbformat_minor": 5
}
