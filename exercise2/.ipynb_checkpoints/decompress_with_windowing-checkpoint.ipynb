{
 "cells": [
  {
   "cell_type": "code",
   "execution_count": 1,
   "id": "c3d4d766",
   "metadata": {},
   "outputs": [],
   "source": [
    "from scipy.fft import idct\n",
    "import numpy as np\n",
    "\n",
    "'''\n",
    "INPUT\n",
    "    X_lc: Compressed 2D frequency domain signal for each window size; left channel\n",
    "    X_rc: Compressed 2D frequency domain signal for each window size; right channel\n",
    "    i_lc: Indices of the original frequencies that you decide to keep. Same dimensions as X_lc.\n",
    "    i_rc: Indices of the original frequencies that you decide to keep. Same dimensions as X_rc.\n",
    "    A: Define this input yourself; you can change the variable name if\n",
    "     you want. Make sure it is an integer.\n",
    "    win_size: Window size\n",
    "OUTPUT\n",
    "    x_lc: 1D time domain signal; left channel\n",
    "    x_rc: 1D time domain signal; right channel\n",
    "'''\n",
    "\n",
    "def decompress_with_windowing(X_lc, X_rc, i_lc, i_rc, N, win_size):\n",
    "    # Write your implementation here\n",
    "    num_win = int(N/win_size)\n",
    "    X_lc_win = np.zeros(N, dtype=float)\n",
    "    X_rc_win = np.zeros(N, dtype=float)\n",
    "    x_lc_matrix = np.zeros((win_size, num_win + 1), dtype=float)\n",
    "    x_rc_matrix = np.zeros((win_size, num_win + 1), dtype=float)\n",
    "    \n",
    "    for i in range(0, num_win):\n",
    "        i_lc_win = i_lc[:, i]\n",
    "        i_rc_win = i_rc[:, i]\n",
    "        \n",
    "        counter = 0\n",
    "        for (index_lc, index_rc) in zip(i_lc_win, i_rc_win):\n",
    "            X_lc_win[index_lc] = X_lc[counter, i]\n",
    "            X_rc_win[index_rc] = X_rc[counter, i]\n",
    "            if counter < len(i_lc):\n",
    "                counter += 1\n",
    "        \n",
    "        if win_size*(1 + i) > N:\n",
    "            ending_index = win_size*(1 + i) - N\n",
    "            if (ending_index - i*win_size) < n_comp:\n",
    "                n_comp = ending_index - i*win_size\n",
    "        else:\n",
    "            ending_index = win_size*(1 + i)\n",
    "            \n",
    "        x_lc_matrix[:, i] = np.sqrt(2)*idct(X_lc_win[i*win_size:ending_index], norm='ortho')\n",
    "        x_rc_matrix[:, i] = np.sqrt(2)*idct(X_rc_win[i*win_size:ending_index], norm='ortho')\n",
    "    \n",
    "    vector_size = int(win_size*(num_win + 1))\n",
    "    return np.reshape(x_lc_matrix, vector_size, order='F'), np.sqrt(2)*np.reshape(x_rc_matrix, vector_size, order='F')\n",
    "\n",
    "\n",
    "\n"
   ]
  }
 ],
 "metadata": {
  "kernelspec": {
   "display_name": "Python 3",
   "language": "python",
   "name": "python3"
  },
  "language_info": {
   "codemirror_mode": {
    "name": "ipython",
    "version": 3
   },
   "file_extension": ".py",
   "mimetype": "text/x-python",
   "name": "python",
   "nbconvert_exporter": "python",
   "pygments_lexer": "ipython3",
   "version": "3.8.8"
  }
 },
 "nbformat": 4,
 "nbformat_minor": 5
}
