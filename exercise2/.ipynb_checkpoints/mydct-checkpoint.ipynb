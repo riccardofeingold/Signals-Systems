{
 "cells": [
  {
   "cell_type": "code",
   "execution_count": 10,
   "id": "2aba520f",
   "metadata": {},
   "outputs": [],
   "source": [
    "import numpy as np\n",
    "from scipy.fft import fft, dct\n",
    "'''\n",
    "INPUT\n",
    "    x: 1D audio signal in the time domain\n",
    "OUTPUT\n",
    "    X: 1D audio signal in the frequency domain, computed using the discrete cosine transform (DCT).\n",
    "        The output should be normalized!\n",
    "'''\n",
    "\n",
    "def mydct(x):\n",
    "    # Write your implementation here\n",
    "    N = len(x)\n",
    "    normalization_constant = 1/np.sqrt(2*N)\n",
    "    x_e = np.zeros(2*N, dtype=complex)\n",
    "    for j in range(0, 2*N):\n",
    "        x_e[j] = x[j % N]\n",
    "    X_e = np.fft.fft(x_e)\n",
    "    \n",
    "    X = np.zeros(2*N, dtype=complex)\n",
    "    for i in range(0, 2*N):\n",
    "        k = int(i / 2)\n",
    "        X[i] = 0.5 * (np.conj(X_e[k]*np.exp(-1j*k*np.pi/(2*N))) + X_e[k]*np.exp(-1j*k*np.pi/(2*N)))\n",
    "    \n",
    "    X *= normalization_constant\n",
    "    \n",
    "    return np.real(X)"
   ]
  }
 ],
 "metadata": {
  "kernelspec": {
   "display_name": "Python 3",
   "language": "python",
   "name": "python3"
  },
  "language_info": {
   "codemirror_mode": {
    "name": "ipython",
    "version": 3
   },
   "file_extension": ".py",
   "mimetype": "text/x-python",
   "name": "python",
   "nbconvert_exporter": "python",
   "pygments_lexer": "ipython3",
   "version": "3.8.8"
  }
 },
 "nbformat": 4,
 "nbformat_minor": 5
}
