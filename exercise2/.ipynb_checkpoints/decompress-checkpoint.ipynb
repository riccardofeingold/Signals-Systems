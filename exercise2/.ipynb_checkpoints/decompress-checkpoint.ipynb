{
 "cells": [
  {
   "cell_type": "code",
   "execution_count": null,
   "id": "e83ad38b",
   "metadata": {},
   "outputs": [],
   "source": [
    "from scipy.fft import idct\n",
    "import numpy as np\n",
    "\n",
    "'''\n",
    "INPUT\n",
    "    X_lc: Compressed 1D frequency domain signal; left channel\n",
    "    X_rc: Compressed 1D frequency domain signal; right channel\n",
    "    i_lc: Indices of the original frequencies that you decide to keep. Same dimensions as X_lc.\n",
    "    i_rc: Indices of the original frequencies that you decide to keep. Same dimensions as X_rc.\n",
    "    A: Define this input yourself; you can change the variable name if you want. Make sure it is an integer.\n",
    "OUTPUT\n",
    "    x_lc: 1D time domain signal; left channel\n",
    "    x_rc: 1D time domain signal; right channel\n",
    "'''\n",
    "def decompress(X_lc, X_rc, i_lc, i_rc, N):\n",
    "    # Write your implementation here\n",
    "    counter = 0\n",
    "    X_lc_N = np.zeros(N, dtype=float)\n",
    "    X_rc_N = np.zeros(N, dtype=float)\n",
    "    \n",
    "    for (index_lc, index_rc) in zip(i_lc, i_rc):\n",
    "        X_lc_N[index_lc] = X_lc[counter]\n",
    "        X_rc_N[index_rc] = X_rc[counter]\n",
    "        if counter < len(i_lc):\n",
    "            counter += 1\n",
    "            \n",
    "    x_rc = np.sqrt(2)*idct(X_lc_N, norm=\"ortho\")\n",
    "    x_lc = np.sqrt(2)*idct(X_rc_N, norm=\"ortho\")\n",
    "    return x_lc, x_rc"
   ]
  }
 ],
 "metadata": {
  "kernelspec": {
   "display_name": "Python 3",
   "language": "python",
   "name": "python3"
  },
  "language_info": {
   "codemirror_mode": {
    "name": "ipython",
    "version": 3
   },
   "file_extension": ".py",
   "mimetype": "text/x-python",
   "name": "python",
   "nbconvert_exporter": "python",
   "pygments_lexer": "ipython3",
   "version": "3.8.8"
  }
 },
 "nbformat": 4,
 "nbformat_minor": 5
}
