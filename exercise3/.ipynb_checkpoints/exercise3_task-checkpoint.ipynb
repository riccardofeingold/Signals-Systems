{
 "cells": [
  {
   "cell_type": "code",
   "execution_count": 1,
   "metadata": {},
   "outputs": [],
   "source": [
    "import numpy as np\n",
    "import matplotlib.pyplot as plt\n",
    "import control as ctrl"
   ]
  },
  {
   "cell_type": "markdown",
   "metadata": {},
   "source": [
    "# Part 1: Open-Loop System Identification"
   ]
  },
  {
   "cell_type": "code",
   "execution_count": 2,
   "metadata": {},
   "outputs": [],
   "source": [
    "from seismograph import seismograph\n",
    "from seismograph import noisy_seismograph"
   ]
  },
  {
   "cell_type": "markdown",
   "metadata": {},
   "source": [
    "### 1. Briefly explain how you would identify the unknown parameters of the given seismograph model using methods taught in the lecture."
   ]
  },
  {
   "cell_type": "markdown",
   "metadata": {},
   "source": [
    "<b>Solution</b>"
   ]
  },
  {
   "cell_type": "markdown",
   "metadata": {},
   "source": [
    "The first method for system identification, using the impulse response, involves exciting the system with an impulse input and measuring the resulting output. Based on the output one can estimate the transfer function of the system. For that we define the input of the system to be $\\{u_e[n]\\} = \\{\\delta[n]\\}$, then the ouput of the model becomes $\\{y_m[n]\\} = \\{h[n]\\}$. The transfer function of the impulse reponse has been derived in lecture. Since for most systems it is impossible to measure the entire output sequence due to an infinite impulse response, one has to collect only enough data such that the impulse response has decayed significantly. Due to this approximation we will have a an error in our transfer function estimation which of course would go to zero if we would collect all the data points. One major problem of this method is that the energy of the measurement noise increases as the amount of data points increases that were collected.\n",
    "\n",
    "That's why there is a second method. Instead of using the dirac impulse function as input we use a sinusoidal input at different frequencies. This method is more robust to noise since the energy of the noise spread out across all frequencies. For this method we have to choose $N_T$ and $N$. The first should be chosen large enough to cut of the transient at a point where it's already died down. The second is the experiment length. The next step is to select the frequencies of interests. These frequencies are used to define the sinusoidal inputs with a specific amplitude $A$. Last but not least the DFS coefficients of the output and the input signal are calculated. Selecting the coefficients of the output and the input at a specific frequency and dividing them by each other gives us the transfer function at that specific frequency. The parameters of the transfer function can be calculated by minimizing a least square problem."
   ]
  },
  {
   "cell_type": "markdown",
   "metadata": {},
   "source": [
    "<b>End of Solution</b>"
   ]
  },
  {
   "cell_type": "markdown",
   "metadata": {},
   "source": [
    "### 2. Implement the chosen method and identify the parameters $b_0$, $b_1$, $b_2$ and $a_1$, $a_2$ for both a “perfect” system and a system with additive white nois"
   ]
  },
  {
   "cell_type": "code",
   "execution_count": 3,
   "metadata": {},
   "outputs": [
    {
     "name": "stdout",
     "output_type": "stream",
     "text": [
      "a coefficients:  [ 1.        -1.7016039  0.7619035]\n",
      "b coefficients:  [0.0150749 0.0301498 0.0150749]\n",
      "a coefficients:  [ 1.         -1.69013852  0.75073104]\n",
      "b coefficients:  [0.01512649 0.03040149 0.01569473]\n",
      "TF for perfect system:  \n",
      "0.01507 z^2 + 0.03015 z + 0.01507\n",
      "---------------------------------\n",
      "     z^2 - 1.702 z + 0.7619\n",
      "\n",
      "TF for noisy system:  \n",
      "0.01513 z^2 + 0.0304 z + 0.01569\n",
      "--------------------------------\n",
      "     z^2 - 1.69 z + 0.7507\n",
      "\n"
     ]
    },
    {
     "data": {
      "image/png": "[encoded data removed]",
      "text/plain": [
       "<Figure size 432x288 with 2 Axes>"
      ]
     },
     "metadata": {
      "needs_background": "light"
     },
     "output_type": "display_data"
    }
   ],
   "source": [
    "# since we have to cope with noise I choose the approach that uses sinsoidal inputs for the system identification\n",
    "def system_estimation(A, B, L, H, w):\n",
    "    F = np.zeros((2*L, A + B - 1))\n",
    "    G = np.zeros((2*L, 1))\n",
    "\n",
    "    for l in range(L):\n",
    "\n",
    "        H_est_l = H[l] \n",
    "        est_l = w[l] \n",
    "\n",
    "        g = H_est_l\n",
    "        f = np.concatenate((-H_est_l*np.exp(-1j*est_l*np.arange(1,A)), np.exp(-1j*est_l*np.arange(0,B))))\n",
    "\n",
    "        F[2*l,:] = np.real(f)\n",
    "        F[2*l + 1,:] = np.imag(f)\n",
    "        G[2*l] = np.real(g)\n",
    "        G[2*l + 1] = np.imag(g)\n",
    "\n",
    "    theta, _, _, _ = np.linalg.lstsq(F, G, rcond=None)\n",
    "\n",
    "    a = np.transpose(np.concatenate((np.ones((1,1)), theta[:A-1])))\n",
    "    b = np.transpose(theta[A-1:])\n",
    "    print('a coefficients: ', a[0, :])\n",
    "    print('b coefficients: ', b[0, :])\n",
    "    return ctrl.tf(b[0,:], a[0,:], True)\n",
    "\n",
    "N = 2001\n",
    "NT = 200\n",
    "A = 2\n",
    "l = np.arange(0, N//2)\n",
    "n = np.arange(0, N + NT)\n",
    "w = np.zeros(len(l))\n",
    "H_perfect = np.zeros((len(l), 1), dtype='complex')\n",
    "H_noisy = np.zeros((len(l), 1), dtype='complex')\n",
    "ue = np.zeros(N)\n",
    "\n",
    "# without noise\n",
    "for i in range(0, len(l)):\n",
    "    w[i] = A*np.pi*l[i]/N\n",
    "    ue = np.cos(w[i] * n)\n",
    "    ym = seismograph(ue)\n",
    "    \n",
    "    U = np.fft.fft(ue[NT:NT+N])\n",
    "    Y = np.fft.fft(ym[NT:NT+N])\n",
    "    H_perfect[i] = Y[l[i]] / U[l[i]]\n",
    "\n",
    "# with noise\n",
    "for i in range(0, len(l)):\n",
    "    w[i] = A*np.pi*l[i]/N\n",
    "    ue = np.cos(w[i] * n)\n",
    "    ym = noisy_seismograph(ue)\n",
    "    \n",
    "    U = np.fft.fft(ue[NT:NT+N])\n",
    "    Y = np.fft.fft(ym[NT:NT+N])\n",
    "    H_noisy[i] = Y[l[i]] / U[l[i]]\n",
    "\n",
    "A = 3 \n",
    "B = 3 \n",
    "L = len(l)\n",
    "transfer_function_est_without_noise = system_estimation(A,B,L,H_perfect,w)\n",
    "transfer_function_est_with_noise = system_estimation(A,B,L,H_noisy,w)\n",
    "print(\"TF for perfect system: \", transfer_function_est_without_noise)\n",
    "print(\"TF for noisy system: \", transfer_function_est_with_noise)\n",
    "bode_without_noise = ctrl.bode_plot(transfer_function_est_without_noise, color=\"red\")\n",
    "bode_with_noise = ctrl.bode_plot(transfer_function_est_with_noise, color=\"blue\")"
   ]
  },
  {
   "cell_type": "markdown",
   "metadata": {},
   "source": [
    "### 3. Compare your results. Is your method feasible to identify both the system with and without noise? Make a qualitative statement using the root mean square error (RMSE) between the identified frequency responses of the systems with and without noise. Compute the RMSE separately for the magnitude and phase of the transfer function."
   ]
  },
  {
   "cell_type": "code",
   "execution_count": 4,
   "metadata": {},
   "outputs": [
    {
     "name": "stdout",
     "output_type": "stream",
     "text": [
      "RMSE for the magnitude:  0.0033426001664169833\n",
      "RMSE for the phase:  2.668724110619794\n"
     ]
    }
   ],
   "source": [
    "def RMSE_magnitude(H_perfect, H_noisy):\n",
    "    H_perfect_magn = np.absolute(H_perfect)\n",
    "    H_noisy_magn = np.absolute(H_noisy)\n",
    "    \n",
    "    MSE = np.square(np.subtract(H_perfect_magn, H_noisy_magn)).mean()\n",
    "    return np.sqrt(MSE)\n",
    "\n",
    "def RMSE_phase(H_perfect, H_noisy):\n",
    "    H_perfect_phase = np.angle(H_perfect)\n",
    "    H_noisy_phase = np.angle(H_noisy)\n",
    "    \n",
    "    MSE = np.square(np.subtract(H_perfect_phase, H_noisy_phase)).mean()\n",
    "    return np.sqrt(MSE)\n",
    "\n",
    "RMSE_magn = RMSE_magnitude(H_perfect, H_noisy)\n",
    "print(\"RMSE for the magnitude: \", RMSE_magn)\n",
    "\n",
    "RMSE_phase = RMSE_phase(H_perfect, H_noisy)\n",
    "print(\"RMSE for the phase: \", RMSE_phase)"
   ]
  },
  {
   "cell_type": "markdown",
   "metadata": {},
   "source": [
    "The method I chose is feasible to identify both the system with and without noise. The accuracy of the magnitude is about 0.003 and the accuracy of the phase is around 2.6°. By increasing N we could get even better results."
   ]
  },
  {
   "cell_type": "markdown",
   "metadata": {},
   "source": [
    "### 4. Assuming a discretization frequency of 1000Hz approximate the continuous-time parameters $\\omega$ and $\\delta$ for the system without noise using the discrete-time parameters you just computed."
   ]
  },
  {
   "cell_type": "code",
   "execution_count": 6,
   "metadata": {},
   "outputs": [
    {
     "name": "stdout",
     "output_type": "stream",
     "text": [
      "TF after bilinear transformation:  \n",
      "3.722e-33 s^6 - 2.149e-29 s^5 + 1.544e-11 s^4 - 1.235e-07 s^3 + 0.0003705 s^2 - 0.494 s + 247\n",
      "---------------------------------------------------------------------------------------------\n",
      "2.217e-16 s^6 - 1.712e-12 s^5 + 4.848e-09 s^4 - 5.754e-06 s^3 + 0.001967 s^2 + 0.4813 s + 247\n",
      "\n",
      "poles: \n",
      " [2000.24261365  +0.j         1999.99992719  +0.24254085j\n",
      " 1999.99992719  -0.24254085j 1999.75753196  +0.j\n",
      " -137.48866089+225.24830028j -137.48866089-225.24830028j] \n",
      "\n",
      "wn my solution:  -6.428332918551267e-10\n",
      "_____Eigenvalue______ Damping___ Frequency_\n",
      "      2000                     1      -2000\n",
      "      2000   +0.2425j         -1       2000\n",
      "      2000   -0.2425j         -1       2000\n",
      "      2000                     1      -2000\n",
      "    -137.5    +225.2j      0.521      263.9\n",
      "    -137.5    -225.2j      0.521      263.9\n"
     ]
    }
   ],
   "source": [
    "Ts = 1/1000\n",
    "s = ctrl.tf('s')\n",
    "z = (1 + s*Ts/2)/(1 - s*Ts/2) # bilinear transform\n",
    "\n",
    "a0 = 1\n",
    "a1 = transfer_function_est_without_noise.den[0][0][1]\n",
    "a2 = transfer_function_est_without_noise.den[0][0][2]\n",
    "b0 = transfer_function_est_without_noise.num[0][0][0]\n",
    "b1 = transfer_function_est_without_noise.num[0][0][1]\n",
    "b2 = transfer_function_est_without_noise.num[0][0][2]\n",
    "\n",
    "system_perfect_time_domain = (b0*z**2 + b1*z + b2)/(a0*z**2 + a1*z + a2)\n",
    "poles = ctrl.poles(system_perfect_time_domain)\n",
    "print('TF after bilinear transformation: ', system_perfect_time_domain)\n",
    "print('poles: \\n', poles, \"\\n\")\n",
    "\n",
    "wn_my_solution = np.tan(np.pi/Ts)*2/Ts\n",
    "print(\"wn my solution: \", wn_my_solution)\n",
    "wn_check, delta_check, _ = ctrl.damp(system_perfect_time_domain)"
   ]
  },
  {
   "cell_type": "markdown",
   "metadata": {},
   "source": [
    "# Part 2: Active Stabilization"
   ]
  },
  {
   "cell_type": "code",
   "execution_count": 7,
   "metadata": {},
   "outputs": [],
   "source": [
    "from seismograph import stabilized_seismograph\n",
    "from seismograph import noisy_stabilized_seismograph"
   ]
  },
  {
   "cell_type": "markdown",
   "metadata": {},
   "source": [
    "### 1. Derive the transfer function of the actively stabilized (closed-loop) seismograph $T$ as a function of $S$ and $C$. Of what order is $T$ assuming both $S$ and $C$ are second-order systems?"
   ]
  },
  {
   "attachments": {},
   "cell_type": "markdown",
   "metadata": {},
   "source": [
    "$\n",
    "\\begin{equation}\n",
    "T = \\frac{Y(s)}{U(s)} = \\frac{S}{1 + SC}\n",
    "\\end{equation}\n",
    "$\n",
    "Since S and C are multiplied together and since both are of second order, T will be of 4th-order."
   ]
  },
  {
   "cell_type": "markdown",
   "metadata": {},
   "source": [
    "### 2. Using your previous result, express $C$ as a function of $S$ and $T$ ."
   ]
  },
  {
   "cell_type": "markdown",
   "metadata": {},
   "source": [
    "$C = \\frac{1}{T} - \\frac{1}{S}$"
   ]
  },
  {
   "cell_type": "markdown",
   "metadata": {},
   "source": [
    "### 3. For $k_1 = 0.5$ and $k_2 = 0.2$, identify the unknown parameters of the closed-loop system $T$ ."
   ]
  },
  {
   "cell_type": "code",
   "execution_count": 8,
   "metadata": {},
   "outputs": [
    {
     "name": "stdout",
     "output_type": "stream",
     "text": [
      "a coefficients:  [ 1.          0.04613869 -0.08413827  0.03862745  0.49792801]\n",
      "b coefficients:  [ 0.73850698  0.61320582 -0.49127215  0.13186614  0.49783714]\n",
      "TF of stabilized system:  \n",
      "0.7385 z^4 + 0.6132 z^3 - 0.4913 z^2 + 0.1319 z + 0.4978\n",
      "--------------------------------------------------------\n",
      "  z^4 + 0.04614 z^3 - 0.08414 z^2 + 0.03863 z + 0.4979\n",
      "\n"
     ]
    }
   ],
   "source": [
    "N = 2001\n",
    "NT = 200\n",
    "A = 2\n",
    "l = np.arange(0, N//2)\n",
    "n = np.arange(0, N + NT)\n",
    "w = np.zeros(len(l))\n",
    "H_stabilized = np.zeros((len(l), 1), dtype='complex')\n",
    "ue = np.zeros(N)\n",
    "\n",
    "k1 = 0.5\n",
    "k2 = 0.2\n",
    "# without noise\n",
    "for i in range(0, len(l)):\n",
    "    w[i] = A*np.pi*l[i]/N\n",
    "    ue = np.cos(w[i] * n)\n",
    "    ym = stabilized_seismograph(ue, k1, k2)\n",
    "    \n",
    "    U = np.fft.fft(ue[NT:NT+N])\n",
    "    Y = np.fft.fft(ym[NT:NT+N])\n",
    "    H_stabilized[i] = Y[l[i]] / U[l[i]]\n",
    "\n",
    "A = 5 \n",
    "B = 5 \n",
    "L = len(l)\n",
    "T_est = system_estimation(A,B,L,H_stabilized,w)\n",
    "print('TF of stabilized system: ', T_est)"
   ]
  },
  {
   "cell_type": "markdown",
   "metadata": {},
   "source": [
    "### 4. Use your results from the previous exercises to approximate the parameters of $C$ (for $k_1 = 0.5$ and $k_2 = 0.2$)."
   ]
  },
  {
   "cell_type": "code",
   "execution_count": 9,
   "metadata": {},
   "outputs": [
    {
     "name": "stdout",
     "output_type": "stream",
     "text": [
      "C =  \n",
      "   -0.7234 z^6 + 0.6743 z^5 + 0.9872 z^4 - 1.436 z^3 + 0.1083 z^2 + 0.7622 z - 0.3718\n",
      "-----------------------------------------------------------------------------------------\n",
      "0.01113 z^6 + 0.03151 z^5 + 0.02222 z^4 - 0.00358 z^3 + 0.004075 z^2 + 0.017 z + 0.007505\n",
      "\n"
     ]
    }
   ],
   "source": [
    "C = 1/T_est - 1/transfer_function_est_without_noise\n",
    "print('C = ', C)"
   ]
  },
  {
   "cell_type": "markdown",
   "metadata": {},
   "source": [
    "### 5. Now approximate the paramters of $C$ for the system with noise."
   ]
  },
  {
   "cell_type": "code",
   "execution_count": 10,
   "metadata": {},
   "outputs": [
    {
     "name": "stdout",
     "output_type": "stream",
     "text": [
      "a coefficients:  [ 1.          0.04733995 -0.0857728   0.03531832  0.49571379]\n",
      "b coefficients:  [ 0.73855637  0.61410789 -0.49166169  0.12779471  0.49518455]\n",
      "TF of stabilized system:  \n",
      "0.7386 z^4 + 0.6141 z^3 - 0.4917 z^2 + 0.1278 z + 0.4952\n",
      "--------------------------------------------------------\n",
      "  z^4 + 0.04734 z^3 - 0.08577 z^2 + 0.03532 z + 0.4957\n",
      "\n",
      "C =  \n",
      "     -0.7234 z^6 + 0.6653 z^5 + 0.991 z^4 - 1.421 z^3 + 0.09714 z^2 + 0.7566 z - 0.364\n",
      "--------------------------------------------------------------------------------------------\n",
      "0.01117 z^6 + 0.03174 z^5 + 0.02282 z^4 - 0.003376 z^3 + 0.003659 z^2 + 0.01706 z + 0.007772\n",
      "\n"
     ]
    }
   ],
   "source": [
    "N = 2001\n",
    "NT = 200\n",
    "A = 2\n",
    "l = np.arange(0, N//2)\n",
    "n = np.arange(0, N + NT)\n",
    "w = np.zeros(len(l))\n",
    "H_stabilized_noisy = np.zeros((len(l), 1), dtype='complex')\n",
    "ue = np.zeros(N)\n",
    "\n",
    "k1 = 0.5\n",
    "k2 = 0.2\n",
    "# with noise\n",
    "for i in range(0, len(l)):\n",
    "    w[i] = A*np.pi*l[i]/N\n",
    "    ue = np.cos(w[i] * n)\n",
    "    ym = noisy_stabilized_seismograph(ue, k1, k2)\n",
    "    \n",
    "    U = np.fft.fft(ue[NT:NT+N])\n",
    "    Y = np.fft.fft(ym[NT:NT+N])\n",
    "    H_stabilized_noisy[i] = Y[l[i]] / U[l[i]]\n",
    "\n",
    "A = 5 \n",
    "B = 5 \n",
    "L = len(l)\n",
    "T_est = system_estimation(A,B,L,H_stabilized_noisy,w)\n",
    "print('TF of stabilized system: ', T_est)\n",
    "\n",
    "C = 1/T_est - 1/transfer_function_est_with_noise\n",
    "print('C = ', C)"
   ]
  },
  {
   "cell_type": "markdown",
   "metadata": {},
   "source": [
    "Second order is not enough for C. According to the results it has to be of 6th order. "
   ]
  },
  {
   "cell_type": "markdown",
   "metadata": {},
   "source": [
    "### 6. For a fixed $k_1 = 0.8$, find an optimal $k_2^*$."
   ]
  },
  {
   "cell_type": "code",
   "execution_count": 11,
   "metadata": {},
   "outputs": [
    {
     "name": "stdout",
     "output_type": "stream",
     "text": [
      "a coefficients:  [ 1.          0.40373559 -0.17729731 -0.49204591]\n",
      "b coefficients:  [ 0.72165529  0.93354525 -0.3450942  -0.58198803]\n",
      "a coefficients:  [ 1.          0.01347989 -0.06255132 -0.3335402 ]\n",
      "b coefficients:  [ 0.59248023  0.7801783  -0.2802279  -0.49538367]\n",
      "a coefficients:  [ 1.         -0.74702154 -0.40290287  0.4391257 ]\n",
      "b coefficients:  [ 1.68377393e-16 -2.07179651e-15 -1.87120698e-16 -1.44343277e-15]\n",
      "a coefficients:  [ 1.         -0.57168841 -0.41404273  0.31633771]\n",
      "b coefficients:  [ 5.44170869e-16  2.18691224e-15 -3.21266365e-16 -5.74258807e-16]\n",
      "a coefficients:  [ 1.         -0.55478844 -0.52465802  0.53395108]\n",
      "b coefficients:  [ 1.31469335e-15  1.12144880e-15  1.67204588e-16 -2.62799159e-15]\n",
      "a coefficients:  [ 1.         -0.64229454 -0.27072185  0.23583305]\n",
      "b coefficients:  [1.17108870e-15 7.25257643e-16 6.57536456e-16 5.94467470e-17]\n",
      "a coefficients:  [ 1.         -0.69149781 -0.2366859   0.36877295]\n",
      "b coefficients:  [-8.99127213e-16 -8.24065155e-16  9.02296881e-16  5.17220725e-16]\n",
      "a coefficients:  [ 1.         -0.67472451 -0.42739523  0.3581263 ]\n",
      "b coefficients:  [ 1.70700095e-15  4.56986563e-15 -1.02798031e-15 -1.30327157e-15]\n",
      "a coefficients:  [ 1.         -0.63813874 -0.35432155  0.25553088]\n",
      "b coefficients:  [ 2.00626917e-15  3.48380306e-16 -2.59495016e-15 -2.04846426e-15]\n",
      "a coefficients:  [ 1.         -0.5007926  -0.40047943  0.308983  ]\n",
      "b coefficients:  [-1.08717955e-15 -6.45691428e-16  1.38966139e-15 -4.85324038e-16]\n",
      "The optimal k2 is:  0.90625\n"
     ]
    }
   ],
   "source": [
    "N = 1001\n",
    "NT = 200\n",
    "A = 2\n",
    "l = np.arange(0, N//2)\n",
    "n = np.arange(0, N + NT)\n",
    "w = np.zeros(len(l))\n",
    "H_stabilized_noisy_a = np.zeros((len(l), 1), dtype='complex')\n",
    "H_stabilized_noisy_b = np.zeros((len(l), 1), dtype='complex')\n",
    "ue = np.zeros(N)\n",
    "\n",
    "k1 = 0.8\n",
    "# initial values\n",
    "k2_a = 0\n",
    "k2_b = 1\n",
    "epsilon = 0.05\n",
    "num_of_iterations = int(np.log2((k2_b - k2_a)/epsilon)) + 1\n",
    "theta_a = np.zeros(8)\n",
    "theta_b = np.zeros(8)\n",
    "last_changed = [0,0]\n",
    "\n",
    "for _ in range(0, num_of_iterations):\n",
    "    for i in range(0, len(l)):\n",
    "        w[i] = A*np.pi*l[i]/N\n",
    "        ue = np.cos(w[i] * n)\n",
    "        ym_b = noisy_stabilized_seismograph(ue, k1, k2_b)\n",
    "        ym_a = noisy_stabilized_seismograph(ue, k1, k2_a)\n",
    "        \n",
    "        U_a = np.fft.fft(ue[NT:NT+N])\n",
    "        Y_a = np.fft.fft(ym_a[NT:NT+N])\n",
    "        H_stabilized_noisy_a[i] = Y_a[l[i]] / U_a[l[i]]\n",
    "        \n",
    "        U_b = np.fft.fft(ue[NT:NT+N])\n",
    "        Y_b = np.fft.fft(ym_b[NT:NT+N])\n",
    "        H_stabilized_noisy_b[i] = Y_b[l[i]] / U_b[l[i]]\n",
    "\n",
    "    A = 4 \n",
    "    B = 4 \n",
    "    L = len(l)\n",
    "    T_est_a = system_estimation(A,B,L,H_stabilized_noisy_a,w)\n",
    "    T_est_b = system_estimation(A,B,L,H_stabilized_noisy_b,w)\n",
    "    \n",
    "    theta_a[:4] = T_est_a.num[0][0]\n",
    "    theta_a[4:] = T_est_a.den[0][0]\n",
    "    theta_b[:4] = T_est_b.num[0][0]\n",
    "    theta_b[4:] = T_est_b.den[0][0]\n",
    "    \n",
    "    min_a = np.sum(np.absolute(theta_a))\n",
    "    min_b = np.sum(np.absolute(theta_b))\n",
    "    \n",
    "    if min_a > min_b:\n",
    "        k2_a = (k2_b + k2_a)/2\n",
    "        last_changed = [1, 0]\n",
    "    else:\n",
    "        k2_b = (k2_b + k2_a)/2\n",
    "        last_changed = [0, 1]\n",
    "\n",
    "if last_changed[0]:\n",
    "    print(\"The optimal k2 is: \", k2_a)\n",
    "else:\n",
    "    print(\"The optimal k2 is: \", k2_b)"
   ]
  },
  {
   "cell_type": "markdown",
   "metadata": {},
   "source": [
    "# Bonus: Earthquake Epicenter Triangulation"
   ]
  },
  {
   "cell_type": "code",
   "execution_count": 12,
   "metadata": {},
   "outputs": [],
   "source": [
    "import numpy as np\n",
    "import matplotlib.pyplot as plt\n",
    "import control as ctrl\n",
    "\n",
    "from measurements import measurement_1\n",
    "from measurements import measurement_2\n",
    "from measurements import measurement_3"
   ]
  },
  {
   "cell_type": "markdown",
   "metadata": {},
   "source": [
    "### 1. Approximate the times $T_1$, $T_2$ and $T_3$ at which the earthquake was measured at each seismographic station."
   ]
  },
  {
   "cell_type": "code",
   "execution_count": 13,
   "metadata": {},
   "outputs": [
    {
     "data": {
      "image/png": "[encoded data removed]",
      "text/plain": [
       "<Figure size 432x288 with 1 Axes>"
      ]
     },
     "metadata": {
      "needs_background": "light"
     },
     "output_type": "display_data"
    },
    {
     "data": {
      "image/png": "[encoded data removed]",
      "text/plain": [
       "<Figure size 432x288 with 1 Axes>"
      ]
     },
     "metadata": {
      "needs_background": "light"
     },
     "output_type": "display_data"
    },
    {
     "data": {
      "image/png": "[encoded data removed]",
      "text/plain": [
       "<Figure size 432x288 with 1 Axes>"
      ]
     },
     "metadata": {
      "needs_background": "light"
     },
     "output_type": "display_data"
    }
   ],
   "source": [
    "def moving_median_filter(data, M):\n",
    "    y = np.zeros(len(data))\n",
    "    for i in range(0, len(y)):\n",
    "        y[i] = np.median(data[i:i+M])\n",
    "    return y\n",
    "\n",
    "window_size = 10\n",
    "filtered_measurement_1 = moving_median_filter(measurement_1(), window_size)\n",
    "filtered_measurement_2 = moving_median_filter(measurement_2(), window_size)\n",
    "filtered_measurement_3 = moving_median_filter(measurement_3(), window_size)\n",
    "\n",
    "plt.plot(filtered_measurement_1)\n",
    "plt.show()\n",
    "plt.plot(filtered_measurement_2)\n",
    "plt.show()\n",
    "plt.plot(filtered_measurement_3)\n",
    "plt.show()"
   ]
  },
  {
   "cell_type": "markdown",
   "metadata": {},
   "source": [
    "- $T_1 = 12.5s$\n",
    "- $T_2 = 43s$\n",
    "- $T_3 = 8s$"
   ]
  },
  {
   "cell_type": "markdown",
   "metadata": {},
   "source": [
    "### 2. Approximate the distances $d_1$, $d_2$ and $d_3$ of each seismograph from the epicenter. Note, that you do not know when exactly the earth quake happened. Assume an earthquake travels at 12km/s."
   ]
  },
  {
   "cell_type": "code",
   "execution_count": 14,
   "metadata": {},
   "outputs": [
    {
     "name": "stdout",
     "output_type": "stream",
     "text": [
      "d1:  150.0  km d2:  516  km d3:  96  km\n"
     ]
    }
   ],
   "source": [
    "v = 12 # km/s\n",
    "T1 = 12.5\n",
    "T2 = 43\n",
    "T3 = 8\n",
    "d1 = v*T1\n",
    "d2 = v*T2\n",
    "d3 = v*T3\n",
    "\n",
    "print('d1: ', d1, ' km', 'd2: ', d2, ' km', 'd3: ', d3, ' km')"
   ]
  },
  {
   "cell_type": "markdown",
   "metadata": {},
   "source": [
    "### 3. Triangulate the epicenter location on a map and give an approximate location (in coordinates)"
   ]
  },
  {
   "cell_type": "markdown",
   "metadata": {},
   "source": [
    "https://www.mapdevelopers.com/draw-circle-tool.php?circles=%5B%5B150000%2C47.3765035%2C8.5483717%2C%22%23AAAAAA%22%2C%22%23000000%22%2C0.4%5D%2C%5B516000%2C48.8444739%2C2.3562766%2C%22%23AAAAAA%22%2C%22%23000000%22%2C0.4%5D%2C%5B96000%2C48.3013441%2C8.3363425%2C%22%23AAAAAA%22%2C%22%23000000%22%2C0.4%5D%5D\n",
    "\n",
    "The town where the epicenter lies is Nürtingen in Germany which is near to Stuttgart"
   ]
  },
  {
   "cell_type": "code",
   "execution_count": null,
   "metadata": {},
   "outputs": [],
   "source": []
  }
 ],
 "metadata": {
  "kernelspec": {
   "display_name": "Python 3",
   "language": "python",
   "name": "python3"
  },
  "language_info": {
   "codemirror_mode": {
    "name": "ipython",
    "version": 3
   },
   "file_extension": ".py",
   "mimetype": "text/x-python",
   "name": "python",
   "nbconvert_exporter": "python",
   "pygments_lexer": "ipython3",
   "version": "3.8.8"
  }
 },
 "nbformat": 4,
 "nbformat_minor": 2
}
